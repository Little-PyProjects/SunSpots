{
 "cells": [
  {
   "cell_type": "code",
   "execution_count": 1,
   "metadata": {},
   "outputs": [],
   "source": [
    "import pandas as pd\n",
    "import plotly.express as px"
   ]
  },
  {
   "cell_type": "code",
   "execution_count": 2,
   "metadata": {},
   "outputs": [],
   "source": [
    "sun = pd.read_csv(\"../data/SN_d_tot_V2.0.csv\", sep=';')\n",
    "sun.columns = ['Year', 'Month', 'Day', 'Fractional Date', 'SunSpot Count', \"DailyStDev\", \"Observations\", 'Indicator']\n",
    "# sun"
   ]
  },
  {
   "cell_type": "markdown",
   "metadata": {},
   "source": [
    "### Let's clean this up a bit by:\n",
    "\n",
    " + Combing Year Month and Day\n",
    " + Convert that to a pandas DateTime object\n",
    " + Set that as the index since they are inorder and unique\n",
    " + Delete Year Month and Day columns\n",
    " \n",
    "### So, from nine columns (including the index) to six"
   ]
  },
  {
   "cell_type": "code",
   "execution_count": 3,
   "metadata": {},
   "outputs": [
    {
     "data": {
      "text/html": [
       "<div>\n",
       "<style scoped>\n",
       "    .dataframe tbody tr th:only-of-type {\n",
       "        vertical-align: middle;\n",
       "    }\n",
       "\n",
       "    .dataframe tbody tr th {\n",
       "        vertical-align: top;\n",
       "    }\n",
       "\n",
       "    .dataframe thead th {\n",
       "        text-align: right;\n",
       "    }\n",
       "</style>\n",
       "<table border=\"1\" class=\"dataframe\">\n",
       "  <thead>\n",
       "    <tr style=\"text-align: right;\">\n",
       "      <th></th>\n",
       "      <th>SunSpot Count</th>\n",
       "      <th>DailyStDev</th>\n",
       "      <th>Observations</th>\n",
       "      <th>Indicator</th>\n",
       "      <th>Fractional Date</th>\n",
       "    </tr>\n",
       "    <tr>\n",
       "      <th>Date</th>\n",
       "      <th></th>\n",
       "      <th></th>\n",
       "      <th></th>\n",
       "      <th></th>\n",
       "      <th></th>\n",
       "    </tr>\n",
       "  </thead>\n",
       "  <tbody>\n",
       "    <tr>\n",
       "      <th>1818-01-02</th>\n",
       "      <td>-1</td>\n",
       "      <td>-1.0</td>\n",
       "      <td>0</td>\n",
       "      <td>1</td>\n",
       "      <td>1818.004</td>\n",
       "    </tr>\n",
       "    <tr>\n",
       "      <th>1818-01-03</th>\n",
       "      <td>-1</td>\n",
       "      <td>-1.0</td>\n",
       "      <td>0</td>\n",
       "      <td>1</td>\n",
       "      <td>1818.007</td>\n",
       "    </tr>\n",
       "  </tbody>\n",
       "</table>\n",
       "</div>"
      ],
      "text/plain": [
       "            SunSpot Count  DailyStDev  Observations  Indicator  \\\n",
       "Date                                                             \n",
       "1818-01-02             -1        -1.0             0          1   \n",
       "1818-01-03             -1        -1.0             0          1   \n",
       "\n",
       "            Fractional Date  \n",
       "Date                         \n",
       "1818-01-02         1818.004  \n",
       "1818-01-03         1818.007  "
      ]
     },
     "execution_count": 3,
     "metadata": {},
     "output_type": "execute_result"
    }
   ],
   "source": [
    "sun['Date'] = sun['Year'].map(str)+ '-' + sun['Month'].map(str) + '-' + sun['Day'].map(str)\n",
    "sun.index = pd.to_datetime(sun['Date'], utc=False)\n",
    "sun = sun[['Date', 'SunSpot Count', 'DailyStDev', 'Observations', 'Indicator', 'Fractional Date'] ]\n",
    "sun.drop('Date', axis=1, inplace=True)\n",
    "sun.head(2)"
   ]
  },
  {
   "cell_type": "markdown",
   "metadata": {},
   "source": [
    "### If I make this into a website, I might have a field to look up the # on a given day"
   ]
  },
  {
   "cell_type": "code",
   "execution_count": 20,
   "metadata": {},
   "outputs": [
    {
     "data": {
      "text/plain": [
       "SunSpot Count         6.000\n",
       "DailyStDev            0.300\n",
       "Observations         18.000\n",
       "Indicator             1.000\n",
       "Fractional Date    2020.001\n",
       "Name: 2020-01-01 00:00:00, dtype: float64"
      ]
     },
     "execution_count": 20,
     "metadata": {},
     "output_type": "execute_result"
    }
   ],
   "source": [
    "sun.loc['2020-01-01']"
   ]
  },
  {
   "cell_type": "markdown",
   "metadata": {},
   "source": [
    "### Daily is probably a bit busy for a chart of two hundred years so let's try weekly"
   ]
  },
  {
   "cell_type": "code",
   "execution_count": null,
   "metadata": {},
   "outputs": [],
   "source": [
    "# weekly_obs = sun.groupby(pd.Grouper(key='index', freq=\"1W\")).sum().resample('1W').sum('Observations')\n",
    "\n",
    "# #df.groupby(pd.Grouper(key='column_name', freq=\"M\")).mean().plot()\n",
    "\n",
    "# #weekly_data = paid_search.groupby(\"Channel\").resample('W-Wed', label='right', closed = 'right', on='Day').sum().reset_index().sort_values(by='Day')"
   ]
  }
 ],
 "metadata": {
  "kernelspec": {
   "display_name": "Python 3",
   "language": "python",
   "name": "python3"
  },
  "language_info": {
   "codemirror_mode": {
    "name": "ipython",
    "version": 3
   },
   "file_extension": ".py",
   "mimetype": "text/x-python",
   "name": "python",
   "nbconvert_exporter": "python",
   "pygments_lexer": "ipython3",
   "version": "3.7.7"
  }
 },
 "nbformat": 4,
 "nbformat_minor": 4
}
