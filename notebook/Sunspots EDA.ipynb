{
 "cells": [
  {
   "cell_type": "code",
   "execution_count": 1,
   "metadata": {},
   "outputs": [],
   "source": [
    "import pandas as pd\n",
    "import numpy as np\n",
    "\n",
    "import matplotlib.pyplot as plt\n",
    "import seaborn as sns\n",
    "import scipy\n",
    "\n",
    "from scipy.signal import butter, lfilter, freqz\n",
    "from scipy.fftpack import fft\n"
   ]
  },
  {
   "cell_type": "code",
   "execution_count": 2,
   "metadata": {},
   "outputs": [
    {
     "name": "stdout",
     "output_type": "stream",
     "text": [
      "/Users/alex/Code/GitHub/SunSpots/data\n"
     ]
    }
   ],
   "source": [
    "cd ../data"
   ]
  },
  {
   "cell_type": "markdown",
   "metadata": {},
   "source": [
    "### Files are sourced from SilSo (http://www.sidc.be/silso/dayssnplot)\n",
    "\n",
    "SN_d_tot_V2.0.csv<br>\n",
    "SN_ms_tot_V2.0.csv"
   ]
  },
  {
   "cell_type": "code",
   "execution_count": 3,
   "metadata": {},
   "outputs": [
    {
     "name": "stdout",
     "output_type": "stream",
     "text": [
      "<class 'pandas.core.frame.DataFrame'>\n",
      "RangeIndex: 73960 entries, 0 to 73959\n",
      "Data columns (total 8 columns):\n",
      " #   Column           Non-Null Count  Dtype  \n",
      "---  ------           --------------  -----  \n",
      " 0   Year             73960 non-null  int64  \n",
      " 1   Month            73960 non-null  int64  \n",
      " 2   Day              73960 non-null  int64  \n",
      " 3   Fractional Date  73960 non-null  float64\n",
      " 4   SunSpot Count    73960 non-null  int64  \n",
      " 5   DailyStDev       73960 non-null  float64\n",
      " 6   Observations     73960 non-null  int64  \n",
      " 7   Indicator        73960 non-null  int64  \n",
      "dtypes: float64(2), int64(6)\n",
      "memory usage: 4.5 MB\n"
     ]
    }
   ],
   "source": [
    "sun = pd.read_csv('SN_d_tot_V2.0.csv', sep = ';')\n",
    "sun.columns = ['Year', 'Month', 'Day', 'Fractional Date', 'SunSpot Count', \"DailyStDev\", \"Observations\", 'Indicator']\n",
    "\n",
    "sun.info()"
   ]
  },
  {
   "cell_type": "code",
   "execution_count": 4,
   "metadata": {},
   "outputs": [
    {
     "data": {
      "text/html": [
       "<div>\n",
       "<style scoped>\n",
       "    .dataframe tbody tr th:only-of-type {\n",
       "        vertical-align: middle;\n",
       "    }\n",
       "\n",
       "    .dataframe tbody tr th {\n",
       "        vertical-align: top;\n",
       "    }\n",
       "\n",
       "    .dataframe thead th {\n",
       "        text-align: right;\n",
       "    }\n",
       "</style>\n",
       "<table border=\"1\" class=\"dataframe\">\n",
       "  <thead>\n",
       "    <tr style=\"text-align: right;\">\n",
       "      <th></th>\n",
       "      <th>Year</th>\n",
       "      <th>Month</th>\n",
       "      <th>Day</th>\n",
       "      <th>Fractional Date</th>\n",
       "      <th>SunSpot Count</th>\n",
       "      <th>DailyStDev</th>\n",
       "      <th>Observations</th>\n",
       "      <th>Indicator</th>\n",
       "    </tr>\n",
       "  </thead>\n",
       "  <tbody>\n",
       "    <tr>\n",
       "      <th>0</th>\n",
       "      <td>1818</td>\n",
       "      <td>1</td>\n",
       "      <td>2</td>\n",
       "      <td>1818.004</td>\n",
       "      <td>-1</td>\n",
       "      <td>-1.0</td>\n",
       "      <td>0</td>\n",
       "      <td>1</td>\n",
       "    </tr>\n",
       "    <tr>\n",
       "      <th>1</th>\n",
       "      <td>1818</td>\n",
       "      <td>1</td>\n",
       "      <td>3</td>\n",
       "      <td>1818.007</td>\n",
       "      <td>-1</td>\n",
       "      <td>-1.0</td>\n",
       "      <td>0</td>\n",
       "      <td>1</td>\n",
       "    </tr>\n",
       "    <tr>\n",
       "      <th>2</th>\n",
       "      <td>1818</td>\n",
       "      <td>1</td>\n",
       "      <td>4</td>\n",
       "      <td>1818.010</td>\n",
       "      <td>-1</td>\n",
       "      <td>-1.0</td>\n",
       "      <td>0</td>\n",
       "      <td>1</td>\n",
       "    </tr>\n",
       "    <tr>\n",
       "      <th>3</th>\n",
       "      <td>1818</td>\n",
       "      <td>1</td>\n",
       "      <td>5</td>\n",
       "      <td>1818.012</td>\n",
       "      <td>-1</td>\n",
       "      <td>-1.0</td>\n",
       "      <td>0</td>\n",
       "      <td>1</td>\n",
       "    </tr>\n",
       "    <tr>\n",
       "      <th>4</th>\n",
       "      <td>1818</td>\n",
       "      <td>1</td>\n",
       "      <td>6</td>\n",
       "      <td>1818.015</td>\n",
       "      <td>-1</td>\n",
       "      <td>-1.0</td>\n",
       "      <td>0</td>\n",
       "      <td>1</td>\n",
       "    </tr>\n",
       "  </tbody>\n",
       "</table>\n",
       "</div>"
      ],
      "text/plain": [
       "   Year  Month  Day  Fractional Date  SunSpot Count  DailyStDev  Observations  \\\n",
       "0  1818      1    2         1818.004             -1        -1.0             0   \n",
       "1  1818      1    3         1818.007             -1        -1.0             0   \n",
       "2  1818      1    4         1818.010             -1        -1.0             0   \n",
       "3  1818      1    5         1818.012             -1        -1.0             0   \n",
       "4  1818      1    6         1818.015             -1        -1.0             0   \n",
       "\n",
       "   Indicator  \n",
       "0          1  \n",
       "1          1  \n",
       "2          1  \n",
       "3          1  \n",
       "4          1  "
      ]
     },
     "execution_count": 4,
     "metadata": {},
     "output_type": "execute_result"
    }
   ],
   "source": [
    "sun.head()"
   ]
  },
  {
   "cell_type": "markdown",
   "metadata": {},
   "source": [
    "I don't really need three columns when I can combine them and conver them to datetime"
   ]
  },
  {
   "cell_type": "code",
   "execution_count": 5,
   "metadata": {},
   "outputs": [
    {
     "name": "stdout",
     "output_type": "stream",
     "text": [
      "<class 'pandas.core.frame.DataFrame'>\n",
      "RangeIndex: 73960 entries, 0 to 73959\n",
      "Data columns (total 9 columns):\n",
      " #   Column           Non-Null Count  Dtype  \n",
      "---  ------           --------------  -----  \n",
      " 0   Year             73960 non-null  int64  \n",
      " 1   Month            73960 non-null  int64  \n",
      " 2   Day              73960 non-null  int64  \n",
      " 3   Fractional Date  73960 non-null  float64\n",
      " 4   SunSpot Count    73960 non-null  int64  \n",
      " 5   DailyStDev       73960 non-null  float64\n",
      " 6   Observations     73960 non-null  int64  \n",
      " 7   Indicator        73960 non-null  int64  \n",
      " 8   Date             73960 non-null  object \n",
      "dtypes: float64(2), int64(6), object(1)\n",
      "memory usage: 5.1+ MB\n"
     ]
    }
   ],
   "source": [
    "sun['Date'] = sun['Year'].map(str)+ '-' + sun['Month'].map(str) + '-' + sun['Day'].map(str)\n",
    "sun.info()"
   ]
  },
  {
   "cell_type": "code",
   "execution_count": 6,
   "metadata": {},
   "outputs": [
    {
     "data": {
      "text/plain": [
       "0       1818-01-02\n",
       "1       1818-01-03\n",
       "2       1818-01-04\n",
       "3       1818-01-05\n",
       "4       1818-01-06\n",
       "           ...    \n",
       "73955   2020-06-26\n",
       "73956   2020-06-27\n",
       "73957   2020-06-28\n",
       "73958   2020-06-29\n",
       "73959   2020-06-30\n",
       "Name: Date, Length: 73960, dtype: datetime64[ns]"
      ]
     },
     "execution_count": 6,
     "metadata": {},
     "output_type": "execute_result"
    }
   ],
   "source": [
    "pd.to_datetime(sun['Date'], utc=False)"
   ]
  },
  {
   "cell_type": "markdown",
   "metadata": {},
   "source": [
    "Drop the year, month and day columns and set a new order"
   ]
  },
  {
   "cell_type": "code",
   "execution_count": 7,
   "metadata": {},
   "outputs": [
    {
     "data": {
      "text/html": [
       "<div>\n",
       "<style scoped>\n",
       "    .dataframe tbody tr th:only-of-type {\n",
       "        vertical-align: middle;\n",
       "    }\n",
       "\n",
       "    .dataframe tbody tr th {\n",
       "        vertical-align: top;\n",
       "    }\n",
       "\n",
       "    .dataframe thead th {\n",
       "        text-align: right;\n",
       "    }\n",
       "</style>\n",
       "<table border=\"1\" class=\"dataframe\">\n",
       "  <thead>\n",
       "    <tr style=\"text-align: right;\">\n",
       "      <th></th>\n",
       "      <th>Date</th>\n",
       "      <th>SunSpot Count</th>\n",
       "      <th>DailyStDev</th>\n",
       "      <th>Observations</th>\n",
       "      <th>Indicator</th>\n",
       "      <th>Fractional Date</th>\n",
       "    </tr>\n",
       "  </thead>\n",
       "  <tbody>\n",
       "    <tr>\n",
       "      <th>0</th>\n",
       "      <td>1818-1-2</td>\n",
       "      <td>-1</td>\n",
       "      <td>-1.0</td>\n",
       "      <td>0</td>\n",
       "      <td>1</td>\n",
       "      <td>1818.004</td>\n",
       "    </tr>\n",
       "    <tr>\n",
       "      <th>1</th>\n",
       "      <td>1818-1-3</td>\n",
       "      <td>-1</td>\n",
       "      <td>-1.0</td>\n",
       "      <td>0</td>\n",
       "      <td>1</td>\n",
       "      <td>1818.007</td>\n",
       "    </tr>\n",
       "    <tr>\n",
       "      <th>2</th>\n",
       "      <td>1818-1-4</td>\n",
       "      <td>-1</td>\n",
       "      <td>-1.0</td>\n",
       "      <td>0</td>\n",
       "      <td>1</td>\n",
       "      <td>1818.010</td>\n",
       "    </tr>\n",
       "    <tr>\n",
       "      <th>3</th>\n",
       "      <td>1818-1-5</td>\n",
       "      <td>-1</td>\n",
       "      <td>-1.0</td>\n",
       "      <td>0</td>\n",
       "      <td>1</td>\n",
       "      <td>1818.012</td>\n",
       "    </tr>\n",
       "    <tr>\n",
       "      <th>4</th>\n",
       "      <td>1818-1-6</td>\n",
       "      <td>-1</td>\n",
       "      <td>-1.0</td>\n",
       "      <td>0</td>\n",
       "      <td>1</td>\n",
       "      <td>1818.015</td>\n",
       "    </tr>\n",
       "    <tr>\n",
       "      <th>...</th>\n",
       "      <td>...</td>\n",
       "      <td>...</td>\n",
       "      <td>...</td>\n",
       "      <td>...</td>\n",
       "      <td>...</td>\n",
       "      <td>...</td>\n",
       "    </tr>\n",
       "    <tr>\n",
       "      <th>73955</th>\n",
       "      <td>2020-6-26</td>\n",
       "      <td>6</td>\n",
       "      <td>0.3</td>\n",
       "      <td>22</td>\n",
       "      <td>0</td>\n",
       "      <td>2020.485</td>\n",
       "    </tr>\n",
       "    <tr>\n",
       "      <th>73956</th>\n",
       "      <td>2020-6-27</td>\n",
       "      <td>4</td>\n",
       "      <td>0.9</td>\n",
       "      <td>12</td>\n",
       "      <td>0</td>\n",
       "      <td>2020.488</td>\n",
       "    </tr>\n",
       "    <tr>\n",
       "      <th>73957</th>\n",
       "      <td>2020-6-28</td>\n",
       "      <td>0</td>\n",
       "      <td>0.0</td>\n",
       "      <td>27</td>\n",
       "      <td>0</td>\n",
       "      <td>2020.490</td>\n",
       "    </tr>\n",
       "    <tr>\n",
       "      <th>73958</th>\n",
       "      <td>2020-6-29</td>\n",
       "      <td>0</td>\n",
       "      <td>0.0</td>\n",
       "      <td>37</td>\n",
       "      <td>0</td>\n",
       "      <td>2020.493</td>\n",
       "    </tr>\n",
       "    <tr>\n",
       "      <th>73959</th>\n",
       "      <td>2020-6-30</td>\n",
       "      <td>0</td>\n",
       "      <td>0.0</td>\n",
       "      <td>33</td>\n",
       "      <td>0</td>\n",
       "      <td>2020.496</td>\n",
       "    </tr>\n",
       "  </tbody>\n",
       "</table>\n",
       "<p>73960 rows × 6 columns</p>\n",
       "</div>"
      ],
      "text/plain": [
       "            Date  SunSpot Count  DailyStDev  Observations  Indicator  \\\n",
       "0       1818-1-2             -1        -1.0             0          1   \n",
       "1       1818-1-3             -1        -1.0             0          1   \n",
       "2       1818-1-4             -1        -1.0             0          1   \n",
       "3       1818-1-5             -1        -1.0             0          1   \n",
       "4       1818-1-6             -1        -1.0             0          1   \n",
       "...          ...            ...         ...           ...        ...   \n",
       "73955  2020-6-26              6         0.3            22          0   \n",
       "73956  2020-6-27              4         0.9            12          0   \n",
       "73957  2020-6-28              0         0.0            27          0   \n",
       "73958  2020-6-29              0         0.0            37          0   \n",
       "73959  2020-6-30              0         0.0            33          0   \n",
       "\n",
       "       Fractional Date  \n",
       "0             1818.004  \n",
       "1             1818.007  \n",
       "2             1818.010  \n",
       "3             1818.012  \n",
       "4             1818.015  \n",
       "...                ...  \n",
       "73955         2020.485  \n",
       "73956         2020.488  \n",
       "73957         2020.490  \n",
       "73958         2020.493  \n",
       "73959         2020.496  \n",
       "\n",
       "[73960 rows x 6 columns]"
      ]
     },
     "execution_count": 7,
     "metadata": {},
     "output_type": "execute_result"
    }
   ],
   "source": [
    "sun = sun[['Date', 'SunSpot Count', 'DailyStDev', 'Observations', 'Indicator', 'Fractional Date'] ]\n",
    "sun"
   ]
  },
  {
   "cell_type": "markdown",
   "metadata": {},
   "source": [
    "This plot below seems a little supicious. I haven't summed up any of the data but have what appears to be summations. Also, I'm not clear on what the part in white would be."
   ]
  },
  {
   "cell_type": "code",
   "execution_count": 8,
   "metadata": {},
   "outputs": [
    {
     "data": {
      "image/png": "[encoded data removed]",
      "text/plain": [
       "<Figure size 1440x360 with 1 Axes>"
      ]
     },
     "metadata": {
      "needs_background": "light"
     },
     "output_type": "display_data"
    }
   ],
   "source": [
    "plt.figure(figsize = (20, 5))\n",
    "ax = plt.gca()\n",
    "\n",
    "sun.plot(kind='line', x='Date', y='SunSpot Count', ax=ax)\n",
    "plt.show()"
   ]
  },
  {
   "cell_type": "code",
   "execution_count": 9,
   "metadata": {},
   "outputs": [
    {
     "data": {
      "text/html": [
       "<div>\n",
       "<style scoped>\n",
       "    .dataframe tbody tr th:only-of-type {\n",
       "        vertical-align: middle;\n",
       "    }\n",
       "\n",
       "    .dataframe tbody tr th {\n",
       "        vertical-align: top;\n",
       "    }\n",
       "\n",
       "    .dataframe thead th {\n",
       "        text-align: right;\n",
       "    }\n",
       "</style>\n",
       "<table border=\"1\" class=\"dataframe\">\n",
       "  <thead>\n",
       "    <tr style=\"text-align: right;\">\n",
       "      <th></th>\n",
       "      <th>SunSpot Count</th>\n",
       "      <th>DailyStDev</th>\n",
       "      <th>Observations</th>\n",
       "      <th>Indicator</th>\n",
       "      <th>Fractional Date</th>\n",
       "    </tr>\n",
       "  </thead>\n",
       "  <tbody>\n",
       "    <tr>\n",
       "      <th>count</th>\n",
       "      <td>73960.000000</td>\n",
       "      <td>73960.000000</td>\n",
       "      <td>73960.000000</td>\n",
       "      <td>73960.000000</td>\n",
       "      <td>73960.000000</td>\n",
       "    </tr>\n",
       "    <tr>\n",
       "      <th>mean</th>\n",
       "      <td>78.998053</td>\n",
       "      <td>6.902599</td>\n",
       "      <td>4.529597</td>\n",
       "      <td>0.998770</td>\n",
       "      <td>1919.250429</td>\n",
       "    </tr>\n",
       "    <tr>\n",
       "      <th>std</th>\n",
       "      <td>77.468362</td>\n",
       "      <td>4.786447</td>\n",
       "      <td>8.085959</td>\n",
       "      <td>0.035056</td>\n",
       "      <td>58.455787</td>\n",
       "    </tr>\n",
       "    <tr>\n",
       "      <th>min</th>\n",
       "      <td>-1.000000</td>\n",
       "      <td>-1.000000</td>\n",
       "      <td>0.000000</td>\n",
       "      <td>0.000000</td>\n",
       "      <td>1818.004000</td>\n",
       "    </tr>\n",
       "    <tr>\n",
       "      <th>25%</th>\n",
       "      <td>15.000000</td>\n",
       "      <td>2.900000</td>\n",
       "      <td>1.000000</td>\n",
       "      <td>1.000000</td>\n",
       "      <td>1868.626250</td>\n",
       "    </tr>\n",
       "    <tr>\n",
       "      <th>50%</th>\n",
       "      <td>58.000000</td>\n",
       "      <td>6.500000</td>\n",
       "      <td>1.000000</td>\n",
       "      <td>1.000000</td>\n",
       "      <td>1919.252000</td>\n",
       "    </tr>\n",
       "    <tr>\n",
       "      <th>75%</th>\n",
       "      <td>124.000000</td>\n",
       "      <td>10.000000</td>\n",
       "      <td>1.000000</td>\n",
       "      <td>1.000000</td>\n",
       "      <td>1969.873500</td>\n",
       "    </tr>\n",
       "    <tr>\n",
       "      <th>max</th>\n",
       "      <td>528.000000</td>\n",
       "      <td>77.700000</td>\n",
       "      <td>60.000000</td>\n",
       "      <td>1.000000</td>\n",
       "      <td>2020.496000</td>\n",
       "    </tr>\n",
       "  </tbody>\n",
       "</table>\n",
       "</div>"
      ],
      "text/plain": [
       "       SunSpot Count    DailyStDev  Observations     Indicator  \\\n",
       "count   73960.000000  73960.000000  73960.000000  73960.000000   \n",
       "mean       78.998053      6.902599      4.529597      0.998770   \n",
       "std        77.468362      4.786447      8.085959      0.035056   \n",
       "min        -1.000000     -1.000000      0.000000      0.000000   \n",
       "25%        15.000000      2.900000      1.000000      1.000000   \n",
       "50%        58.000000      6.500000      1.000000      1.000000   \n",
       "75%       124.000000     10.000000      1.000000      1.000000   \n",
       "max       528.000000     77.700000     60.000000      1.000000   \n",
       "\n",
       "       Fractional Date  \n",
       "count     73960.000000  \n",
       "mean       1919.250429  \n",
       "std          58.455787  \n",
       "min        1818.004000  \n",
       "25%        1868.626250  \n",
       "50%        1919.252000  \n",
       "75%        1969.873500  \n",
       "max        2020.496000  "
      ]
     },
     "execution_count": 9,
     "metadata": {},
     "output_type": "execute_result"
    }
   ],
   "source": [
    "sun.describe()"
   ]
  },
  {
   "cell_type": "code",
   "execution_count": 10,
   "metadata": {},
   "outputs": [
    {
     "data": {
      "text/plain": [
       "73960"
      ]
     },
     "execution_count": 10,
     "metadata": {},
     "output_type": "execute_result"
    }
   ],
   "source": [
    "len(sun)"
   ]
  },
  {
   "cell_type": "markdown",
   "metadata": {},
   "source": [
    "Hunh. Well, that would seem to dispel my first concern. \n",
    "\n",
    "This is a good place to stop for the night. I think I want to look about casting the indicator as a bool and Observations and total SunSpots as integers. That should be faster, take less memory, and should be a bit clearer.\n"
   ]
  },
  {
   "cell_type": "code",
   "execution_count": 11,
   "metadata": {},
   "outputs": [],
   "source": [
    "sun['Indicator'] = sun['Indicator'].astype(bool)\n",
    "sun[['Observations', 'SunSpot Count']] = sun[['Observations', 'SunSpot Count']].astype(int)"
   ]
  },
  {
   "cell_type": "code",
   "execution_count": 12,
   "metadata": {},
   "outputs": [],
   "source": [
    "window = 1000\n",
    "sun['rolling'] = sun.iloc[:,1].rolling(window).mean()\n",
    "\n"
   ]
  },
  {
   "cell_type": "code",
   "execution_count": 13,
   "metadata": {},
   "outputs": [
    {
     "data": {
      "image/png": "[encoded data removed]",
      "text/plain": [
       "<Figure size 1440x360 with 1 Axes>"
      ]
     },
     "metadata": {
      "needs_background": "light"
     },
     "output_type": "display_data"
    }
   ],
   "source": [
    "plt.figure(figsize = (20, 5))\n",
    "ax = plt.gca()\n",
    "\n",
    "sun.plot(kind='line', x='Date', y='SunSpot Count', ax=ax)\n",
    "sun.plot(kind='line', x='Date', y='rolling', ax=ax)\n",
    "\n",
    "plt.show()"
   ]
  },
  {
   "cell_type": "code",
   "execution_count": 14,
   "metadata": {},
   "outputs": [],
   "source": [
    "data = sun[0:len(sun)]"
   ]
  },
  {
   "cell_type": "code",
   "execution_count": 15,
   "metadata": {},
   "outputs": [
    {
     "ename": "NameError",
     "evalue": "name 'get_fft_values' is not defined",
     "output_type": "error",
     "traceback": [
      "\u001b[0;31m---------------------------------------------------------------------------\u001b[0m",
      "\u001b[0;31mNameError\u001b[0m                                 Traceback (most recent call last)",
      "Input \u001b[0;32mIn [15]\u001b[0m, in \u001b[0;36m<cell line: 15>\u001b[0;34m()\u001b[0m\n\u001b[1;32m     12\u001b[0m y_values \u001b[38;5;241m=\u001b[39m [amplitudes[i]\u001b[38;5;241m*\u001b[39mnp\u001b[38;5;241m.\u001b[39msin(\u001b[38;5;241m2\u001b[39m\u001b[38;5;241m*\u001b[39mnp\u001b[38;5;241m.\u001b[39mpi\u001b[38;5;241m*\u001b[39mfrequencies[i]\u001b[38;5;241m*\u001b[39mx_value) \u001b[38;5;28;01mfor\u001b[39;00m i \u001b[38;5;129;01min\u001b[39;00m \u001b[38;5;28mrange\u001b[39m(\u001b[38;5;241m0\u001b[39m,\u001b[38;5;28mlen\u001b[39m(amplitudes))]\n\u001b[1;32m     13\u001b[0m composite_y_value \u001b[38;5;241m=\u001b[39m np\u001b[38;5;241m.\u001b[39msum(y_values, axis\u001b[38;5;241m=\u001b[39m\u001b[38;5;241m0\u001b[39m)\n\u001b[0;32m---> 15\u001b[0m f_values, fft_values \u001b[38;5;241m=\u001b[39m \u001b[43mget_fft_values\u001b[49m(composite_y_value, T, N, f_s)\n\u001b[1;32m     17\u001b[0m colors \u001b[38;5;241m=\u001b[39m [\u001b[38;5;124m'\u001b[39m\u001b[38;5;124mk\u001b[39m\u001b[38;5;124m'\u001b[39m, \u001b[38;5;124m'\u001b[39m\u001b[38;5;124mb\u001b[39m\u001b[38;5;124m'\u001b[39m, \u001b[38;5;124m'\u001b[39m\u001b[38;5;124mb\u001b[39m\u001b[38;5;124m'\u001b[39m, \u001b[38;5;124m'\u001b[39m\u001b[38;5;124mb\u001b[39m\u001b[38;5;124m'\u001b[39m, \u001b[38;5;124m'\u001b[39m\u001b[38;5;124mb\u001b[39m\u001b[38;5;124m'\u001b[39m, \u001b[38;5;124m'\u001b[39m\u001b[38;5;124mb\u001b[39m\u001b[38;5;124m'\u001b[39m, \u001b[38;5;124m'\u001b[39m\u001b[38;5;124mb\u001b[39m\u001b[38;5;124m'\u001b[39m, \u001b[38;5;124m'\u001b[39m\u001b[38;5;124mb\u001b[39m\u001b[38;5;124m'\u001b[39m, \u001b[38;5;124m'\u001b[39m\u001b[38;5;124mb\u001b[39m\u001b[38;5;124m'\u001b[39m]\n",
      "\u001b[0;31mNameError\u001b[0m: name 'get_fft_values' is not defined"
     ]
    }
   ],
   "source": [
    "t_n = 200\n",
    "N = 200 #sample rate (in Hz) must equal last of x=np.linspace(0,10,300) below\n",
    "T = t_n / N\n",
    "f_s = 1/T #freq\n",
    "\n",
    "x_value = np.linspace(0,t_n,N)\n",
    "\n",
    "#dummy values\n",
    "amplitudes = [1, 1, 1]\n",
    "frequencies = [30, 10, 1]\n",
    "\n",
    "y_values = [amplitudes[i]*np.sin(2*np.pi*frequencies[i]*x_value) for i in range(0,len(amplitudes))]\n",
    "composite_y_value = np.sum(y_values, axis=0)\n",
    "\n",
    "f_values, fft_values = get_fft_values(composite_y_value, T, N, f_s)\n",
    "\n",
    "colors = ['k', 'b', 'b', 'b', 'b', 'b', 'b', 'b', 'b']"
   ]
  },
  {
   "cell_type": "code",
   "execution_count": null,
   "metadata": {},
   "outputs": [],
   "source": [
    "def get_fft_values(y_values, T, N, f_s):\n",
    "    f_values = np.linspace(0.0, 1.0/(2.0*T), N//2)\n",
    "    fft_values_ = fft(y_values)\n",
    "    fft_values = 2.0/N * np.abs(fft_values_[0:N//2])\n",
    "    return f_values, fft_values"
   ]
  },
  {
   "cell_type": "code",
   "execution_count": null,
   "metadata": {},
   "outputs": [],
   "source": [
    "f_values, fft_values = get_fft_values(composite_y_value, T, N, f_s)\n",
    " \n",
    "plt.plot(f_values, fft_values, linestyle='-', color='blue')\n",
    "plt.xlabel('Frequency [Hz]', fontsize=16)\n",
    "plt.ylabel('Amplitude', fontsize=16)\n",
    "plt.title(\"Frequency domain of the signal\", fontsize=16)\n",
    "plt.show()"
   ]
  },
  {
   "cell_type": "code",
   "execution_count": null,
   "metadata": {},
   "outputs": [],
   "source": [
    "t_n = 200\n",
    "N = 200 #sample rate (in Hz) must equal last of x=np.linspace(0,10,300) below\n",
    "T = t_n / N\n",
    "f_s = 1/T #freq\n",
    "\n",
    "x_value = np.linspace(0,t_n,N)"
   ]
  },
  {
   "cell_type": "code",
   "execution_count": null,
   "metadata": {},
   "outputs": [],
   "source": [
    "fft = np.fft.fft(data)\n",
    "\n",
    "for i in range(2):\n",
    "    print(\"Value at index {}:\\t{}\".format(i, fft[i + 1]), \"\\nValue at index {}:\\t{}\".format(fft.size -1 - i, fft[-1 - i]))"
   ]
  },
  {
   "cell_type": "code",
   "execution_count": null,
   "metadata": {},
   "outputs": [],
   "source": [
    "scipy.fft.fft(x, n=None, axis=- 1, norm=None, overwrite_x=False, workers=None, *, plan=None)"
   ]
  },
  {
   "cell_type": "markdown",
   "metadata": {},
   "source": [
    "It's been a while so a refresher on how FFT works would be useful"
   ]
  },
  {
   "cell_type": "code",
   "execution_count": null,
   "metadata": {},
   "outputs": [],
   "source": [
    "SAMPLE_RATE = 44100  # Hertz\n",
    "DURATION = 5  # Seconds\n",
    "\n",
    "def generate_sine_wave(freq, sample_rate, duration):\n",
    "    x = np.linspace(0, duration, sample_rate * duration, endpoint=False)\n",
    "    frequencies = x * freq\n",
    "    # 2pi because np.sin takes radians\n",
    "    y = np.sin((2 * np.pi) * frequencies)\n",
    "    return x, y\n",
    "\n",
    "\n",
    "# Number of samples in normalized_tone\n",
    "N = SAMPLE_RATE * DURATION\n",
    "\n",
    "\n",
    "# Generate a 2 hertz sine wave that lasts for 5 seconds\n",
    "x, y = generate_sine_wave(2, SAMPLE_RATE, DURATION)\n",
    "plt.plot(x, y)\n",
    "plt.show()"
   ]
  },
  {
   "cell_type": "code",
   "execution_count": null,
   "metadata": {},
   "outputs": [],
   "source": [
    "_, nice_tone = generate_sine_wave(400, SAMPLE_RATE, DURATION)\n",
    "_, noise_tone = generate_sine_wave(4000, SAMPLE_RATE, DURATION)\n",
    "noise_tone = noise_tone * 0.3\n",
    "\n",
    "mixed_tone = nice_tone + noise_tone\n"
   ]
  },
  {
   "cell_type": "code",
   "execution_count": null,
   "metadata": {},
   "outputs": [],
   "source": [
    "normalized_tone = np.int16((mixed_tone / mixed_tone.max()) * 32767)\n",
    "\n",
    "plt.plot(normalized_tone[:1000])\n",
    "plt.show()"
   ]
  },
  {
   "cell_type": "code",
   "execution_count": null,
   "metadata": {},
   "outputs": [],
   "source": [
    "from scipy.io.wavfile import write\n",
    "\n",
    "# Remember SAMPLE_RATE = 44100 Hz is our playback rate\n",
    "write(\"mysinewave.wav\", SAMPLE_RATE, normalized_tone)\n"
   ]
  },
  {
   "cell_type": "code",
   "execution_count": null,
   "metadata": {},
   "outputs": [],
   "source": [
    "from scipy.fft import rfft, rfftfreq\n",
    "\n",
    "# Note the extra 'r' at the front\n",
    "yf = rfft(normalized_tone)\n",
    "xf = rfftfreq(N, 1 / SAMPLE_RATE)\n",
    "\n",
    "plt.plot(xf, np.abs(yf))\n",
    "plt.show()\n"
   ]
  },
  {
   "cell_type": "code",
   "execution_count": null,
   "metadata": {},
   "outputs": [],
   "source": [
    "yf.size"
   ]
  },
  {
   "cell_type": "markdown",
   "metadata": {},
   "source": [
    "### Let's take a step back an use find_peaks to see if I can get that to lable."
   ]
  },
  {
   "cell_type": "code",
   "execution_count": 49,
   "metadata": {},
   "outputs": [
    {
     "data": {
      "image/png": "[encoded data removed]",
      "text/plain": [
       "<Figure size 432x288 with 1 Axes>"
      ]
     },
     "metadata": {
      "needs_background": "light"
     },
     "output_type": "display_data"
    }
   ],
   "source": [
    "import matplotlib.pyplot as plt\n",
    "from scipy.misc import electrocardiogram\n",
    "from scipy.signal import find_peaks\n",
    "\n",
    "p, q = peaks, x[peaks]\n",
    "\n",
    "peaks, _ = find_peaks(x, distance=150)\n",
    "np.diff(peaks)\n",
    "\n",
    "\n",
    "fig, ax = plt.subplots()\n",
    "ax.scatter(p, q)\n",
    "\n",
    "for i, txt in enumerate(p):\n",
    "    ax.annotate(txt, (p[i], q[i]))\n",
    "\n",
    "\n",
    "x = electrocardiogram()[2000:4000]\n",
    "\n",
    "plt.plot(x)\n",
    "plt.plot(peaks, x[peaks], 'x')\n",
    "\n",
    "plt.show()"
   ]
  },
  {
   "cell_type": "code",
   "execution_count": null,
   "metadata": {},
   "outputs": [],
   "source": []
  }
 ],
 "metadata": {
  "kernelspec": {
   "display_name": "Python 3 (ipykernel)",
   "language": "python",
   "name": "python3"
  },
  "language_info": {
   "codemirror_mode": {
    "name": "ipython",
    "version": 3
   },
   "file_extension": ".py",
   "mimetype": "text/x-python",
   "name": "python",
   "nbconvert_exporter": "python",
   "pygments_lexer": "ipython3",
   "version": "3.9.13"
  }
 },
 "nbformat": 4,
 "nbformat_minor": 4
}
