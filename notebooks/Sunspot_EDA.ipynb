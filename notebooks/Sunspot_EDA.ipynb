{
 "cells": [
  {
   "cell_type": "code",
   "execution_count": 1,
   "metadata": {},
   "outputs": [],
   "source": [
    "from os.path import exists\n",
    "\n",
    "import pandas as pd\n",
    "import numpy as np\n",
    "\n",
    "import statsmodels.api as sm\n",
    "\n",
    "\n",
    "import matplotlib.pyplot as plt\n",
    "import seaborn as sns\n",
    "import scipy\n",
    "\n",
    "from scipy.io.wavfile import write\n",
    "from scipy.signal import butter, lfilter, freqz\n",
    "from scipy.fftpack import fft,rfft, rfftfreq"
   ]
  },
  {
   "cell_type": "markdown",
   "metadata": {},
   "source": [
    "## Observational data comes from SilSo (http://www.sidc.be/silso/dayssnplot)\n",
    "\n",
    "SN_d_tot_V2.0.csv<br>\n",
    "SN_ms_tot_V2.0.csv"
   ]
  },
  {
   "cell_type": "markdown",
   "metadata": {},
   "source": [
    "## Cleaning the data, if needed"
   ]
  },
  {
   "cell_type": "code",
   "execution_count": 3,
   "metadata": {},
   "outputs": [
    {
     "name": "stdout",
     "output_type": "stream",
     "text": [
      "Using the data that has already been cleaned\n"
     ]
    }
   ],
   "source": [
    "if exists('../data/pickled_sunspot_data.pkl'):\n",
    "    print('Using the data that has already been cleaned')\n",
    "else:\n",
    "    print(\"Clean data isn't here. Cleaning and exporting\")\n",
    "    \n",
    "    sun = pd.read_csv('../data/SN_d_tot_V2.0.csv', sep = ';')\n",
    "    sun.columns = ['Year', 'Month', 'Day', 'Fractional Date', 'SunSpot Count', \"DailyStDev\", \"Observations\", 'Indicator']\n",
    "    sun['Date'] = sun['Year'].map(str)+ '-' + sun['Month'].map(str) + '-' + sun['Day'].map(str)\n",
    "    pd.to_datetime(sun['Date'], utc=False)\n",
    "    \n",
    "    sun = sun[['Date', 'SunSpot Count', 'DailyStDev', 'Observations', 'Indicator', 'Fractional Date'] ]\n",
    "    sun['Indicator'] = sun['Indicator'].astype(bool)\n",
    "    \n",
    "    sun[['Observations', 'SunSpot Count']] = sun[['Observations', 'SunSpot Count']].astype(int)\n",
    "    sun.to_pickle('../data/pickled_sunspot_data.pkl')"
   ]
  },
  {
   "cell_type": "code",
   "execution_count": 4,
   "metadata": {},
   "outputs": [
    {
     "data": {
      "text/html": [
       "<div>\n",
       "<style scoped>\n",
       "    .dataframe tbody tr th:only-of-type {\n",
       "        vertical-align: middle;\n",
       "    }\n",
       "\n",
       "    .dataframe tbody tr th {\n",
       "        vertical-align: top;\n",
       "    }\n",
       "\n",
       "    .dataframe thead th {\n",
       "        text-align: right;\n",
       "    }\n",
       "</style>\n",
       "<table border=\"1\" class=\"dataframe\">\n",
       "  <thead>\n",
       "    <tr style=\"text-align: right;\">\n",
       "      <th></th>\n",
       "      <th>Date</th>\n",
       "      <th>SunSpot Count</th>\n",
       "      <th>DailyStDev</th>\n",
       "      <th>Observations</th>\n",
       "      <th>Indicator</th>\n",
       "      <th>Fractional Date</th>\n",
       "    </tr>\n",
       "  </thead>\n",
       "  <tbody>\n",
       "    <tr>\n",
       "      <th>0</th>\n",
       "      <td>1818-1-2</td>\n",
       "      <td>-1</td>\n",
       "      <td>-1.0</td>\n",
       "      <td>0</td>\n",
       "      <td>True</td>\n",
       "      <td>1818.004</td>\n",
       "    </tr>\n",
       "    <tr>\n",
       "      <th>1</th>\n",
       "      <td>1818-1-3</td>\n",
       "      <td>-1</td>\n",
       "      <td>-1.0</td>\n",
       "      <td>0</td>\n",
       "      <td>True</td>\n",
       "      <td>1818.007</td>\n",
       "    </tr>\n",
       "    <tr>\n",
       "      <th>2</th>\n",
       "      <td>1818-1-4</td>\n",
       "      <td>-1</td>\n",
       "      <td>-1.0</td>\n",
       "      <td>0</td>\n",
       "      <td>True</td>\n",
       "      <td>1818.010</td>\n",
       "    </tr>\n",
       "    <tr>\n",
       "      <th>3</th>\n",
       "      <td>1818-1-5</td>\n",
       "      <td>-1</td>\n",
       "      <td>-1.0</td>\n",
       "      <td>0</td>\n",
       "      <td>True</td>\n",
       "      <td>1818.012</td>\n",
       "    </tr>\n",
       "    <tr>\n",
       "      <th>4</th>\n",
       "      <td>1818-1-6</td>\n",
       "      <td>-1</td>\n",
       "      <td>-1.0</td>\n",
       "      <td>0</td>\n",
       "      <td>True</td>\n",
       "      <td>1818.015</td>\n",
       "    </tr>\n",
       "  </tbody>\n",
       "</table>\n",
       "</div>"
      ],
      "text/plain": [
       "       Date  SunSpot Count  DailyStDev  Observations  Indicator  \\\n",
       "0  1818-1-2             -1        -1.0             0       True   \n",
       "1  1818-1-3             -1        -1.0             0       True   \n",
       "2  1818-1-4             -1        -1.0             0       True   \n",
       "3  1818-1-5             -1        -1.0             0       True   \n",
       "4  1818-1-6             -1        -1.0             0       True   \n",
       "\n",
       "   Fractional Date  \n",
       "0         1818.004  \n",
       "1         1818.007  \n",
       "2         1818.010  \n",
       "3         1818.012  \n",
       "4         1818.015  "
      ]
     },
     "execution_count": 4,
     "metadata": {},
     "output_type": "execute_result"
    }
   ],
   "source": [
    "sun = pd.read_pickle('../data/pickled_sunspot_data.pkl')\n",
    "sun.head()"
   ]
  },
  {
   "cell_type": "markdown",
   "metadata": {},
   "source": [
    "## Initial plots"
   ]
  },
  {
   "cell_type": "markdown",
   "metadata": {},
   "source": [
    "This plot below seems a little supicious. I haven't summed up any of the data but have what appears to be summations. Also, I'm not clear on what the part in white would be."
   ]
  },
  {
   "cell_type": "code",
   "execution_count": null,
   "metadata": {},
   "outputs": [],
   "source": [
    "plt.figure(figsize = (20, 5))\n",
    "ax = plt.gca()\n",
    "\n",
    "sun.plot(kind='line', x='Date', y='SunSpot Count', ax=ax)\n",
    "plt.show()"
   ]
  },
  {
   "cell_type": "code",
   "execution_count": null,
   "metadata": {},
   "outputs": [],
   "source": [
    "sun.describe()"
   ]
  },
  {
   "cell_type": "code",
   "execution_count": null,
   "metadata": {},
   "outputs": [],
   "source": [
    "len(sun)"
   ]
  },
  {
   "cell_type": "markdown",
   "metadata": {},
   "source": [
    "Hunh. Well, that would seem to dispel my first concern. \n",
    "\n",
    "This is a good place to stop for the night. I think I want to look about casting the indicator as a bool and Observations and total SunSpots as integers. That should be faster, take less memory, and should be a bit clearer.\n"
   ]
  },
  {
   "cell_type": "code",
   "execution_count": null,
   "metadata": {},
   "outputs": [],
   "source": [
    "sun['Indicator'] = sun['Indicator'].astype(bool)\n",
    "sun[['Observations', 'SunSpot Count']] = sun[['Observations', 'SunSpot Count']].astype(int)"
   ]
  },
  {
   "cell_type": "code",
   "execution_count": null,
   "metadata": {},
   "outputs": [],
   "source": [
    "window = 730 #makes for a two year rolling average\n",
    "sun['rolling'] = sun.iloc[:,1].rolling(window).mean()"
   ]
  },
  {
   "cell_type": "code",
   "execution_count": null,
   "metadata": {},
   "outputs": [],
   "source": [
    "plt.figure(figsize = (20, 5))\n",
    "ax = plt.gca()\n",
    "\n",
    "sun.plot(kind='line', x='Date', y='SunSpot Count', ax=ax)\n",
    "sun.plot(kind='line', x='Date', y='rolling', ax=ax)\n",
    "\n",
    "plt.show()"
   ]
  },
  {
   "cell_type": "code",
   "execution_count": null,
   "metadata": {},
   "outputs": [],
   "source": [
    "data = sun[1:len(sun)]"
   ]
  },
  {
   "cell_type": "markdown",
   "metadata": {},
   "source": [
    "mat"
   ]
  },
  {
   "cell_type": "code",
   "execution_count": null,
   "metadata": {},
   "outputs": [],
   "source": [
    "def get_fft_values(y_values, T, N, f_s):\n",
    "    f_values = np.linspace(0.0, 1.0/(2.0*T), N//2)\n",
    "    fft_values_ = fft(y_values)\n",
    "    fft_values = 2.0/N * np.abs(fft_values_[0:N//2])\n",
    "    return f_values, fft_values"
   ]
  },
  {
   "cell_type": "code",
   "execution_count": null,
   "metadata": {},
   "outputs": [],
   "source": [
    "t_n = 200\n",
    "N = 200 #sample rate (in Hz) must equal last of x=np.linspace(0,10,300) below\n",
    "T = t_n / N\n",
    "f_s = 1/T #freq\n",
    "\n",
    "x_value = np.linspace(0,t_n,N)\n",
    "\n",
    "#dummy values\n",
    "amplitudes = [1, 1, 1]\n",
    "frequencies = [30, 10, 1]\n",
    "\n",
    "y_values = [amplitudes[i]*np.sin(2*np.pi*frequencies[i]*x_value) for i in range(0,len(amplitudes))]\n",
    "composite_y_value = np.sum(y_values, axis=0)\n",
    "\n",
    "f_values, fft_values = get_fft_values(composite_y_value, T, N, f_s)\n",
    "\n",
    "colors = ['k', 'b', 'b', 'b', 'b', 'b', 'b', 'b', 'b']"
   ]
  },
  {
   "cell_type": "code",
   "execution_count": null,
   "metadata": {},
   "outputs": [],
   "source": [
    "f_values, fft_values = get_fft_values(composite_y_value, T, N, f_s)\n",
    " \n",
    "plt.plot(f_values, fft_values, linestyle='-', color='blue')\n",
    "plt.xlabel('Frequency [Hz]', fontsize=16)\n",
    "plt.ylabel('Amplitude', fontsize=16)\n",
    "plt.title(\"Frequency domain of the signal\", fontsize=16)\n",
    "plt.show()"
   ]
  },
  {
   "cell_type": "code",
   "execution_count": null,
   "metadata": {},
   "outputs": [],
   "source": [
    "t_n = 200\n",
    "N = 200 #sample rate (in Hz) must equal last of x=np.linspace(0,10,300) below\n",
    "T = t_n / N\n",
    "f_s = 1/T #freq\n",
    "\n",
    "x_value = np.linspace(0,t_n,N)"
   ]
  },
  {
   "cell_type": "code",
   "execution_count": null,
   "metadata": {},
   "outputs": [],
   "source": [
    "scipy.fft.fft(sun['SunSpot Count'], n=None, axis=- 1, norm=None, overwrite_x=False, workers=None, plan=None)"
   ]
  },
  {
   "cell_type": "markdown",
   "metadata": {},
   "source": [
    "It's been a while so a refresher on how FFT works would be useful"
   ]
  },
  {
   "cell_type": "code",
   "execution_count": null,
   "metadata": {},
   "outputs": [],
   "source": [
    "SAMPLE_RATE = 44100  # Hertz\n",
    "DURATION = 5  # Seconds\n",
    "\n",
    "def generate_sine_wave(freq, sample_rate, duration):\n",
    "    x = np.linspace(0, duration, sample_rate * duration, endpoint=False)\n",
    "    frequencies = x * freq\n",
    "    # 2pi because np.sin takes radians\n",
    "    y = np.sin((2 * np.pi) * frequencies)\n",
    "    return x, y\n",
    "\n",
    "\n",
    "# Number of samples in normalized_tone\n",
    "N = SAMPLE_RATE * DURATION\n",
    "\n",
    "\n",
    "# Generate a 2 hertz sine wave that lasts for 5 seconds\n",
    "x, y = generate_sine_wave(2, SAMPLE_RATE, DURATION)\n",
    "plt.plot(x, y)\n",
    "plt.show()"
   ]
  },
  {
   "cell_type": "code",
   "execution_count": null,
   "metadata": {},
   "outputs": [],
   "source": [
    "_, nice_tone = generate_sine_wave(400, SAMPLE_RATE, DURATION)\n",
    "_, noise_tone = generate_sine_wave(4000, SAMPLE_RATE, DURATION)\n",
    "noise_tone = noise_tone * 0.3\n",
    "\n",
    "mixed_tone = nice_tone + noise_tone\n"
   ]
  },
  {
   "cell_type": "code",
   "execution_count": null,
   "metadata": {},
   "outputs": [],
   "source": [
    "normalized_tone = np.int16((mixed_tone / mixed_tone.max()) * 32767)\n",
    "\n",
    "plt.plot(normalized_tone[:1000])\n",
    "plt.show()"
   ]
  },
  {
   "cell_type": "code",
   "execution_count": null,
   "metadata": {},
   "outputs": [],
   "source": [
    "# Remember SAMPLE_RATE = 44100 Hz is our playback rate\n",
    "write(\"mysinewave.wav\", SAMPLE_RATE, normalized_tone)\n"
   ]
  },
  {
   "cell_type": "code",
   "execution_count": null,
   "metadata": {},
   "outputs": [],
   "source": [
    "# Note the extra 'r' at the front\n",
    "yf = rfft(normalized_tone)\n",
    "xf = rfftfreq(N, 1 / SAMPLE_RATE)\n",
    "\n",
    "plt.plot(xf, np.abs(yf))\n",
    "\n",
    "\n",
    "plt.show()\n"
   ]
  },
  {
   "cell_type": "code",
   "execution_count": null,
   "metadata": {},
   "outputs": [],
   "source": [
    "yf.size"
   ]
  },
  {
   "cell_type": "markdown",
   "metadata": {},
   "source": [
    "### Let's take a step back an use find_peaks to see if I can get that to lablel the values.\n",
    "### I'm using the find_peaks and using the electrocardiogram dataset "
   ]
  },
  {
   "cell_type": "code",
   "execution_count": null,
   "metadata": {},
   "outputs": [],
   "source": [
    "import matplotlib.pyplot as plt\n",
    "from scipy.misc import electrocardiogram\n",
    "from scipy.signal import find_peaks\n",
    "import numpy as np\n"
   ]
  },
  {
   "cell_type": "code",
   "execution_count": null,
   "metadata": {},
   "outputs": [],
   "source": [
    "import matplotlib.pyplot as plt\n",
    "from scipy.misc import electrocardiogram\n",
    "from scipy.signal import find_peaks\n",
    "plt.figure(figsize = (20, 5))\n",
    "\n",
    "x = electrocardiogram()[2000:4000]\n",
    "\n",
    "peaks, _ = find_peaks(x, distance=150)\n",
    "\n",
    "c= np.diff(peaks)\n",
    "\n",
    "plt.plot(x)\n",
    "plt.plot(peaks, x[peaks], 'x')\n",
    "plt.show()\n",
    "c"
   ]
  },
  {
   "cell_type": "code",
   "execution_count": null,
   "metadata": {},
   "outputs": [],
   "source": [
    "plt.figure(figsize = (20, 5))\n",
    "x = electrocardiogram()[2000:4000]\n",
    "peaks, _ = find_peaks(x, height=0, distance=100)\n",
    "plt.plot(x)\n",
    "plt.plot(peaks, x[peaks], \"x\")\n",
    "plt.plot(np.zeros_like(x), \"--\", color=\"gray\")\n",
    "plt.show()"
   ]
  },
  {
   "cell_type": "code",
   "execution_count": null,
   "metadata": {},
   "outputs": [],
   "source": [
    "p, q = peaks, x[peaks]\n",
    "\n",
    "peaks, _ = find_peaks(x, distance=150)\n",
    "np.diff(peaks)\n"
   ]
  },
  {
   "cell_type": "code",
   "execution_count": null,
   "metadata": {},
   "outputs": [],
   "source": [
    "fig, ax = plt.subplots()\n",
    "ax.scatter(p, q)\n",
    "plt.gcf().set_size_inches(20, 10)\n",
    "for i, txt in enumerate(p):\n",
    "    ax.annotate(txt, (p[i], q[i]))\n",
    "\n",
    "\n",
    "plt.plot(x)\n",
    "plt.plot(peaks, x[peaks], 'x')\n",
    "\n",
    "plt.show()"
   ]
  },
  {
   "cell_type": "code",
   "execution_count": null,
   "metadata": {},
   "outputs": [],
   "source": [
    "fft = np.fft.fft(sun['SunSpot Count'])\n",
    "\n",
    "for i in range(2):\n",
    "    print(\"Value at index {}:\\t{}\".format(i, fft[i + 1]), \"\\nValue at index {}:\\t{}\".format(fft.size -1 - i, fft[-1 - i]))"
   ]
  },
  {
   "cell_type": "markdown",
   "metadata": {},
   "source": [
    "### Next step --\n",
    "\n",
    " 1. Take the numbers from `cell 29` and adapt the code to display the frequencies in `cell 24` and `cell 17`\n",
    " 2. That should allow me to see the frequencies in the test case. Might need a periodic filter to take out the non-peaks\n",
    " 3. That souuld give me a start on finding the freqs for the `sun` dataset"
   ]
  },
  {
   "cell_type": "code",
   "execution_count": null,
   "metadata": {},
   "outputs": [],
   "source": []
  }
 ],
 "metadata": {
  "kernelspec": {
   "display_name": "Python 3 (ipykernel)",
   "language": "python",
   "name": "python3"
  },
  "language_info": {
   "codemirror_mode": {
    "name": "ipython",
    "version": 3
   },
   "file_extension": ".py",
   "mimetype": "text/x-python",
   "name": "python",
   "nbconvert_exporter": "python",
   "pygments_lexer": "ipython3",
   "version": "3.9.13"
  }
 },
 "nbformat": 4,
 "nbformat_minor": 4
}
